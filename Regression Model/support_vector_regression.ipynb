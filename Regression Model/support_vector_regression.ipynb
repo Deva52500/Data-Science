{
  "nbformat": 4,
  "nbformat_minor": 0,
  "metadata": {
    "colab": {
      "name": "support_vector_regression.ipynb",
      "provenance": [],
      "collapsed_sections": [],
      "toc_visible": true
    },
    "kernelspec": {
      "name": "python3",
      "display_name": "Python 3"
    }
  },
  "cells": [
    {
      "cell_type": "markdown",
      "metadata": {
        "id": "m3PAEPRDRLA3"
      },
      "source": [
        "# Support Vector Regression (SVR)"
      ]
    },
    {
      "cell_type": "markdown",
      "metadata": {
        "id": "0VCUAVIjRdzZ"
      },
      "source": [
        "## Importing the libraries"
      ]
    },
    {
      "cell_type": "code",
      "metadata": {
        "id": "56oRF-QfSDzC"
      },
      "source": [
        "import numpy as np\n",
        "import matplotlib.pyplot as plt\n",
        "import pandas as pd"
      ],
      "execution_count": 1,
      "outputs": []
    },
    {
      "cell_type": "markdown",
      "metadata": {
        "id": "fXVXoFWtSF4_"
      },
      "source": [
        "## Importing the dataset"
      ]
    },
    {
      "cell_type": "code",
      "metadata": {
        "id": "xfoa8OSORfHQ"
      },
      "source": [
        "dataset = pd.read_csv('day.csv')\n",
        "X = dataset.iloc[:, 2:-1].values\n",
        "y = dataset.iloc[:, -1].values"
      ],
      "execution_count": 2,
      "outputs": []
    },
    {
      "cell_type": "code",
      "metadata": {
        "id": "_8Ny1GfPiV3m"
      },
      "source": [
        "y = y.reshape(len(y),1)"
      ],
      "execution_count": 3,
      "outputs": []
    },
    {
      "cell_type": "markdown",
      "metadata": {
        "id": "6Vk3nNlrCVCN"
      },
      "source": [
        "## Splitting the dataset into the Training set and Test set"
      ]
    },
    {
      "cell_type": "code",
      "metadata": {
        "id": "x_fXqrziCV3_"
      },
      "source": [
        "from sklearn.model_selection import train_test_split\n",
        "X_train, X_test, y_train, y_test = train_test_split(X, y, test_size = 0.2, random_state = 0)"
      ],
      "execution_count": 4,
      "outputs": []
    },
    {
      "cell_type": "markdown",
      "metadata": {
        "id": "YS8FeLHYS-nI"
      },
      "source": [
        "## Feature Scaling"
      ]
    },
    {
      "cell_type": "code",
      "metadata": {
        "id": "PGeAlD1HTDI1"
      },
      "source": [
        "from sklearn.preprocessing import StandardScaler\n",
        "sc_X = StandardScaler()\n",
        "sc_y = StandardScaler()\n",
        "X_train = sc_X.fit_transform(X_train)\n",
        "y_train = sc_y.fit_transform(y_train)"
      ],
      "execution_count": 5,
      "outputs": []
    },
    {
      "cell_type": "markdown",
      "metadata": {
        "id": "eiU6D2QFRjxY"
      },
      "source": [
        "## Training the SVR model on the Training set"
      ]
    },
    {
      "cell_type": "code",
      "metadata": {
        "id": "y6R4rt_GRz15",
        "outputId": "e65d555e-e8aa-4fa7-c398-22028b66f922",
        "colab": {
          "base_uri": "https://localhost:8080/",
          "height": 104
        }
      },
      "source": [
        "from sklearn.svm import SVR\n",
        "regressor = SVR(kernel = 'rbf')\n",
        "regressor.fit(X_train, y_train)"
      ],
      "execution_count": 6,
      "outputs": [
        {
          "output_type": "stream",
          "text": [
            "/usr/local/lib/python3.6/dist-packages/sklearn/utils/validation.py:760: DataConversionWarning: A column-vector y was passed when a 1d array was expected. Please change the shape of y to (n_samples, ), for example using ravel().\n",
            "  y = column_or_1d(y, warn=True)\n"
          ],
          "name": "stderr"
        },
        {
          "output_type": "execute_result",
          "data": {
            "text/plain": [
              "SVR(C=1.0, cache_size=200, coef0=0.0, degree=3, epsilon=0.1, gamma='scale',\n",
              "    kernel='rbf', max_iter=-1, shrinking=True, tol=0.001, verbose=False)"
            ]
          },
          "metadata": {
            "tags": []
          },
          "execution_count": 6
        }
      ]
    },
    {
      "cell_type": "markdown",
      "metadata": {
        "id": "aPYA5W1pDBOE"
      },
      "source": [
        "## Predicting the Test set results"
      ]
    },
    {
      "cell_type": "code",
      "metadata": {
        "id": "vSqFVDYrDROW",
        "outputId": "a13bb143-8396-4208-f59d-7f04c16fdff8",
        "colab": {
          "base_uri": "https://localhost:8080/",
          "height": 1000
        }
      },
      "source": [
        "y_pred = sc_y.inverse_transform(regressor.predict(sc_X.transform(X_test)))\n",
        "np.set_printoptions(precision=2)\n",
        "print(np.concatenate((y_pred.reshape(len(y_pred),1), y_test.reshape(len(y_test),1)),1))"
      ],
      "execution_count": 7,
      "outputs": [
        {
          "output_type": "stream",
          "text": [
            "[[5911.56 5923.  ]\n",
            " [4582.65 4592.  ]\n",
            " [1443.55 1248.  ]\n",
            " [1381.58 1360.  ]\n",
            " [3785.25 4075.  ]\n",
            " [1859.48 1817.  ]\n",
            " [2587.03 2659.  ]\n",
            " [5962.28 6234.  ]\n",
            " [5698.89 6857.  ]\n",
            " [1243.99 1167.  ]\n",
            " [1420.9  1538.  ]\n",
            " [1168.93 1162.  ]\n",
            " [1805.29 1461.  ]\n",
            " [4801.49 4833.  ]\n",
            " [4411.76 4342.  ]\n",
            " [4101.73 4010.  ]\n",
            " [7632.42 7525.  ]\n",
            " [6493.05 6536.  ]\n",
            " [3259.93 3376.  ]\n",
            " [2102.24 2077.  ]\n",
            " [7567.43 7713.  ]\n",
            " [1643.39 1341.  ]\n",
            " [5223.75 5259.  ]\n",
            " [4431.53 4460.  ]\n",
            " [2032.62 1977.  ]\n",
            " [4934.05 4549.  ]\n",
            " [3657.7  3387.  ]\n",
            " [5047.55 5058.  ]\n",
            " [7547.11 7907.  ]\n",
            " [8196.56 8120.  ]\n",
            " [1261.37  822.  ]\n",
            " [5153.67 5115.  ]\n",
            " [6412.68 6392.  ]\n",
            " [5192.09 5202.  ]\n",
            " [2503.78 2209.  ]\n",
            " [3898.51 4023.  ]\n",
            " [6780.57 6861.  ]\n",
            " [4817.65 4840.  ]\n",
            " [2807.63 2744.  ]\n",
            " [2959.47 2914.  ]\n",
            " [6812.28 6624.  ]\n",
            " [1231.34  801.  ]\n",
            " [4899.7  4839.  ]\n",
            " [3501.99 3487.  ]\n",
            " [7579.79 7580.  ]\n",
            " [7341.22 7436.  ]\n",
            " [2769.32 1951.  ]\n",
            " [4179.14 3351.  ]\n",
            " [2533.44 2832.  ]\n",
            " [1786.62 1693.  ]\n",
            " [6056.28 6043.  ]\n",
            " [6845.48 6966.  ]\n",
            " [5604.8  5572.  ]\n",
            " [7121.39 7421.  ]\n",
            " [4556.64 4576.  ]\n",
            " [3250.03 3071.  ]\n",
            " [3715.91 3613.  ]\n",
            " [7401.3  7461.  ]\n",
            " [6985.73 7105.  ]\n",
            " [3262.24 3272.  ]\n",
            " [7319.46 7290.  ]\n",
            " [4549.49 4318.  ]\n",
            " [3875.91 4073.  ]\n",
            " [8114.89 8714.  ]\n",
            " [7554.55 7494.  ]\n",
            " [2330.15 1996.  ]\n",
            " [5252.54 5202.  ]\n",
            " [4872.56 5382.  ]\n",
            " [6647.25 6536.  ]\n",
            " [5699.78 5566.  ]\n",
            " [6757.77 6572.  ]\n",
            " [7444.77 7264.  ]\n",
            " [4719.69 4996.  ]\n",
            " [6841.71 6597.  ]\n",
            " [3354.67 3267.  ]\n",
            " [6551.94 6606.  ]\n",
            " [5774.57 5847.  ]\n",
            " [7041.97 6883.  ]\n",
            " [2440.23 2431.  ]\n",
            " [2079.4  1796.  ]\n",
            " [4382.76 4475.  ]\n",
            " [4839.2  5107.  ]\n",
            " [5177.52 5362.  ]\n",
            " [1861.38 1812.  ]\n",
            " [4936.59 5010.  ]\n",
            " [7833.58 7665.  ]\n",
            " [4875.81 4792.  ]\n",
            " [6210.36 6169.  ]\n",
            " [3857.16 4459.  ]\n",
            " [4234.54 4274.  ]\n",
            " [1208.18 1263.  ]\n",
            " [3366.87  623.  ]\n",
            " [6865.58 6904.  ]\n",
            " [6935.5  7175.  ]\n",
            " [2934.16 2843.  ]\n",
            " [2479.63 1013.  ]\n",
            " [1596.95  627.  ]\n",
            " [7163.88 7261.  ]\n",
            " [3819.23 3574.  ]\n",
            " [3669.59 3830.  ]\n",
            " [4219.84 4352.  ]\n",
            " [6053.45 6233.  ]\n",
            " [4843.99 5170.  ]\n",
            " [7686.92 7691.  ]\n",
            " [3534.82 3523.  ]\n",
            " [4323.14 4302.  ]\n",
            " [7450.07 7693.  ]\n",
            " [7446.89 7415.  ]\n",
            " [6136.93 6041.  ]\n",
            " [2516.58 2660.  ]\n",
            " [4272.65 4191.  ]\n",
            " [3591.47 3542.  ]\n",
            " [3463.68 3544.  ]\n",
            " [2810.3  1635.  ]\n",
            " [1975.63 2169.  ]\n",
            " [4523.66 4548.  ]\n",
            " [4799.36 4763.  ]\n",
            " [4289.77 4451.  ]\n",
            " [7254.53 7359.  ]\n",
            " [6012.91 5936.  ]\n",
            " [1776.12 1712.  ]\n",
            " [4490.8  4507.  ]\n",
            " [3254.39 2927.  ]\n",
            " [2779.78 2294.  ]\n",
            " [4348.89 4195.  ]\n",
            " [4570.01 4630.  ]\n",
            " [1503.38 1650.  ]\n",
            " [7060.03 7001.  ]\n",
            " [2872.08 3129.  ]\n",
            " [3576.62 3239.  ]\n",
            " [1361.47  605.  ]\n",
            " [5592.4  5464.  ]\n",
            " [1255.73 1450.  ]\n",
            " [4403.4  4304.  ]\n",
            " [4074.66 4270.  ]\n",
            " [5911.23 6153.  ]\n",
            " [6883.91 7132.  ]\n",
            " [4640.54 4539.  ]\n",
            " [4758.88 4985.  ]\n",
            " [5284.09 5345.  ]\n",
            " [4412.2  4220.  ]\n",
            " [4600.67 4595.  ]\n",
            " [5735.03 5870.  ]\n",
            " [5500.68 5499.  ]\n",
            " [5102.5  5423.  ]\n",
            " [7214.83 8294.  ]\n",
            " [4398.55 4334.  ]]\n"
          ],
          "name": "stdout"
        }
      ]
    },
    {
      "cell_type": "markdown",
      "metadata": {
        "id": "CMsYlps2DX1d"
      },
      "source": [
        "## Evaluating the Model Performance"
      ]
    },
    {
      "cell_type": "code",
      "metadata": {
        "id": "HxsRWlURDr6S",
        "outputId": "2c66dfc5-932d-402f-c8a6-f7efd46003b1",
        "colab": {
          "base_uri": "https://localhost:8080/",
          "height": 34
        }
      },
      "source": [
        "from sklearn.metrics import r2_score\n",
        "r2_score(y_test, y_pred)"
      ],
      "execution_count": 8,
      "outputs": [
        {
          "output_type": "execute_result",
          "data": {
            "text/plain": [
              "0.9658529216042403"
            ]
          },
          "metadata": {
            "tags": []
          },
          "execution_count": 8
        }
      ]
    }
  ]
}