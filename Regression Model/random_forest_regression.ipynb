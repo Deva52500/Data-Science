{
  "nbformat": 4,
  "nbformat_minor": 0,
  "metadata": {
    "colab": {
      "name": "random_forest_regression.ipynb",
      "provenance": [],
      "collapsed_sections": [],
      "toc_visible": true
    },
    "kernelspec": {
      "name": "python3",
      "display_name": "Python 3"
    }
  },
  "cells": [
    {
      "cell_type": "markdown",
      "metadata": {
        "id": "LeamvpPVXuS_"
      },
      "source": [
        "# Random Forest Regression"
      ]
    },
    {
      "cell_type": "markdown",
      "metadata": {
        "id": "O2wvZ7SKXzVC"
      },
      "source": [
        "## Importing the libraries"
      ]
    },
    {
      "cell_type": "code",
      "metadata": {
        "id": "PVmESEFZX4Ig"
      },
      "source": [
        "import numpy as np\n",
        "import matplotlib.pyplot as plt\n",
        "import pandas as pd"
      ],
      "execution_count": 1,
      "outputs": []
    },
    {
      "cell_type": "markdown",
      "metadata": {
        "id": "zgbK_F8-X7em"
      },
      "source": [
        "## Importing the dataset"
      ]
    },
    {
      "cell_type": "code",
      "metadata": {
        "id": "adBE4tjQX_Bh"
      },
      "source": [
        "dataset = pd.read_csv('day.csv')\n",
        "X = dataset.iloc[:, 2:-1].values\n",
        "y = dataset.iloc[:, -1].values"
      ],
      "execution_count": 2,
      "outputs": []
    },
    {
      "cell_type": "markdown",
      "metadata": {
        "id": "ptNjcy7bOBlD"
      },
      "source": [
        "## Splitting the dataset into the Training set and Test set"
      ]
    },
    {
      "cell_type": "code",
      "metadata": {
        "id": "C7NdofoCOFQF"
      },
      "source": [
        "from sklearn.model_selection import train_test_split\n",
        "X_train, X_test, y_train, y_test = train_test_split(X, y, test_size = 0.2, random_state = 0)"
      ],
      "execution_count": 3,
      "outputs": []
    },
    {
      "cell_type": "markdown",
      "metadata": {
        "id": "v4S2fyIBYDcu"
      },
      "source": [
        "## Training the Random Forest Regression model on the whole dataset"
      ]
    },
    {
      "cell_type": "code",
      "metadata": {
        "id": "o8dOCoJ1YKMc",
        "outputId": "115a14cc-b3da-4156-9e53-94176c1b7c71",
        "colab": {
          "base_uri": "https://localhost:8080/",
          "height": 134
        }
      },
      "source": [
        "from sklearn.ensemble import RandomForestRegressor\n",
        "regressor = RandomForestRegressor(n_estimators = 10, random_state = 0)\n",
        "regressor.fit(X_train, y_train)"
      ],
      "execution_count": 4,
      "outputs": [
        {
          "output_type": "execute_result",
          "data": {
            "text/plain": [
              "RandomForestRegressor(bootstrap=True, ccp_alpha=0.0, criterion='mse',\n",
              "                      max_depth=None, max_features='auto', max_leaf_nodes=None,\n",
              "                      max_samples=None, min_impurity_decrease=0.0,\n",
              "                      min_impurity_split=None, min_samples_leaf=1,\n",
              "                      min_samples_split=2, min_weight_fraction_leaf=0.0,\n",
              "                      n_estimators=10, n_jobs=None, oob_score=False,\n",
              "                      random_state=0, verbose=0, warm_start=False)"
            ]
          },
          "metadata": {
            "tags": []
          },
          "execution_count": 4
        }
      ]
    },
    {
      "cell_type": "markdown",
      "metadata": {
        "id": "DM_jh0frOPKE"
      },
      "source": [
        "## Predicting the Test set results"
      ]
    },
    {
      "cell_type": "code",
      "metadata": {
        "id": "JGa9ZfM4OTNw",
        "outputId": "14724669-48ac-409f-dd10-026c58f41610",
        "colab": {
          "base_uri": "https://localhost:8080/",
          "height": 1000
        }
      },
      "source": [
        "y_pred = regressor.predict(X_test)\n",
        "np.set_printoptions(precision=2)\n",
        "print(np.concatenate((y_pred.reshape(len(y_pred),1), y_test.reshape(len(y_test),1)),1))"
      ],
      "execution_count": 5,
      "outputs": [
        {
          "output_type": "stream",
          "text": [
            "[[5584.5 5923. ]\n",
            " [4616.4 4592. ]\n",
            " [1148.5 1248. ]\n",
            " [1369.8 1360. ]\n",
            " [3936.6 4075. ]\n",
            " [1843.9 1817. ]\n",
            " [2800.2 2659. ]\n",
            " [6312.4 6234. ]\n",
            " [5903.5 6857. ]\n",
            " [1239.3 1167. ]\n",
            " [1532.7 1538. ]\n",
            " [1164.3 1162. ]\n",
            " [1441.3 1461. ]\n",
            " [4844.5 4833. ]\n",
            " [4402.4 4342. ]\n",
            " [4022.1 4010. ]\n",
            " [7555.4 7525. ]\n",
            " [6345.4 6536. ]\n",
            " [3487.4 3376. ]\n",
            " [2064.7 2077. ]\n",
            " [7673.9 7713. ]\n",
            " [1372.4 1341. ]\n",
            " [5413.  5259. ]\n",
            " [4366.9 4460. ]\n",
            " [1986.1 1977. ]\n",
            " [4193.2 4549. ]\n",
            " [3525.4 3387. ]\n",
            " [4967.3 5058. ]\n",
            " [7691.5 7907. ]\n",
            " [7878.1 8120. ]\n",
            " [ 925.   822. ]\n",
            " [5101.9 5115. ]\n",
            " [6378.4 6392. ]\n",
            " [5232.4 5202. ]\n",
            " [2188.6 2209. ]\n",
            " [4111.  4023. ]\n",
            " [6822.8 6861. ]\n",
            " [4599.5 4840. ]\n",
            " [2785.  2744. ]\n",
            " [3042.2 2914. ]\n",
            " [6672.5 6624. ]\n",
            " [ 839.1  801. ]\n",
            " [4841.7 4839. ]\n",
            " [3552.6 3487. ]\n",
            " [7495.2 7580. ]\n",
            " [7469.8 7436. ]\n",
            " [1933.3 1951. ]\n",
            " [3129.5 3351. ]\n",
            " [2743.8 2832. ]\n",
            " [1513.2 1693. ]\n",
            " [5727.6 6043. ]\n",
            " [6912.9 6966. ]\n",
            " [5641.4 5572. ]\n",
            " [7586.4 7421. ]\n",
            " [4614.4 4576. ]\n",
            " [2867.6 3071. ]\n",
            " [3643.1 3613. ]\n",
            " [7404.5 7461. ]\n",
            " [7055.8 7105. ]\n",
            " [3329.5 3272. ]\n",
            " [7270.2 7290. ]\n",
            " [4245.7 4318. ]\n",
            " [4183.1 4073. ]\n",
            " [7847.9 8714. ]\n",
            " [7574.2 7494. ]\n",
            " [1931.7 1996. ]\n",
            " [5309.9 5202. ]\n",
            " [5624.2 5382. ]\n",
            " [5879.9 6536. ]\n",
            " [5669.3 5566. ]\n",
            " [6624.9 6572. ]\n",
            " [7380.8 7264. ]\n",
            " [4866.2 4996. ]\n",
            " [6627.6 6597. ]\n",
            " [3396.1 3267. ]\n",
            " [6496.5 6606. ]\n",
            " [5815.5 5847. ]\n",
            " [6957.5 6883. ]\n",
            " [2474.3 2431. ]\n",
            " [1904.5 1796. ]\n",
            " [4274.7 4475. ]\n",
            " [4960.7 5107. ]\n",
            " [5539.3 5362. ]\n",
            " [1518.8 1812. ]\n",
            " [4960.7 5010. ]\n",
            " [7712.7 7665. ]\n",
            " [4732.2 4792. ]\n",
            " [6057.9 6169. ]\n",
            " [4379.6 4459. ]\n",
            " [4259.5 4274. ]\n",
            " [1285.  1263. ]\n",
            " [ 752.4  623. ]\n",
            " [6835.8 6904. ]\n",
            " [7054.  7175. ]\n",
            " [2803.2 2843. ]\n",
            " [ 900.6 1013. ]\n",
            " [ 612.   627. ]\n",
            " [7297.1 7261. ]\n",
            " [3543.3 3574. ]\n",
            " [3864.1 3830. ]\n",
            " [4239.7 4352. ]\n",
            " [6296.6 6233. ]\n",
            " [5407.2 5170. ]\n",
            " [7284.1 7691. ]\n",
            " [3616.7 3523. ]\n",
            " [4119.5 4302. ]\n",
            " [7513.8 7693. ]\n",
            " [7410.  7415. ]\n",
            " [5787.5 6041. ]\n",
            " [2817.3 2660. ]\n",
            " [4577.4 4191. ]\n",
            " [3488.4 3542. ]\n",
            " [3498.3 3544. ]\n",
            " [1469.5 1635. ]\n",
            " [2170.2 2169. ]\n",
            " [4576.8 4548. ]\n",
            " [4754.7 4763. ]\n",
            " [4476.3 4451. ]\n",
            " [7434.  7359. ]\n",
            " [6184.  5936. ]\n",
            " [1711.3 1712. ]\n",
            " [4488.4 4507. ]\n",
            " [3126.5 2927. ]\n",
            " [2384.7 2294. ]\n",
            " [4160.  4195. ]\n",
            " [4648.2 4630. ]\n",
            " [1653.9 1650. ]\n",
            " [7066.3 7001. ]\n",
            " [3136.1 3129. ]\n",
            " [3342.5 3239. ]\n",
            " [ 601.7  605. ]\n",
            " [5479.6 5464. ]\n",
            " [1495.  1450. ]\n",
            " [4310.7 4304. ]\n",
            " [4138.7 4270. ]\n",
            " [6224.5 6153. ]\n",
            " [6915.5 7132. ]\n",
            " [4561.1 4539. ]\n",
            " [4967.2 4985. ]\n",
            " [5405.7 5345. ]\n",
            " [4125.  4220. ]\n",
            " [4662.9 4595. ]\n",
            " [5823.6 5870. ]\n",
            " [5529.9 5499. ]\n",
            " [5485.6 5423. ]\n",
            " [7620.1 8294. ]\n",
            " [4284.3 4334. ]]\n"
          ],
          "name": "stdout"
        }
      ]
    },
    {
      "cell_type": "markdown",
      "metadata": {
        "id": "Cd8VZM5POWXN"
      },
      "source": [
        "## Evaluating the Model Performance"
      ]
    },
    {
      "cell_type": "code",
      "metadata": {
        "id": "a7y1rXlfOZJo",
        "outputId": "f70dcee8-f290-49c1-84b7-307fcc5d84c8",
        "colab": {
          "base_uri": "https://localhost:8080/",
          "height": 34
        }
      },
      "source": [
        "from sklearn.metrics import r2_score\n",
        "r2_score(y_test, y_pred)"
      ],
      "execution_count": 6,
      "outputs": [
        {
          "output_type": "execute_result",
          "data": {
            "text/plain": [
              "0.9924380058036393"
            ]
          },
          "metadata": {
            "tags": []
          },
          "execution_count": 6
        }
      ]
    }
  ]
}