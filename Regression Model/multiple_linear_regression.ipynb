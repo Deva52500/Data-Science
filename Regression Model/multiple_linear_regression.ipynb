{
  "nbformat": 4,
  "nbformat_minor": 0,
  "metadata": {
    "colab": {
      "name": "multiple_linear_regression.ipynb",
      "provenance": [],
      "collapsed_sections": [],
      "toc_visible": true
    },
    "kernelspec": {
      "name": "python3",
      "display_name": "Python 3"
    }
  },
  "cells": [
    {
      "cell_type": "markdown",
      "metadata": {
        "id": "CazISR8X_HUG"
      },
      "source": [
        "# Multiple Linear Regression"
      ]
    },
    {
      "cell_type": "markdown",
      "metadata": {
        "id": "pOyqYHTk_Q57"
      },
      "source": [
        "## Importing the libraries"
      ]
    },
    {
      "cell_type": "code",
      "metadata": {
        "id": "T_YHJjnD_Tja"
      },
      "source": [
        "import numpy as np\n",
        "import matplotlib.pyplot as plt\n",
        "import pandas as pd"
      ],
      "execution_count": 1,
      "outputs": []
    },
    {
      "cell_type": "markdown",
      "metadata": {
        "id": "vgC61-ah_WIz"
      },
      "source": [
        "## Importing the dataset"
      ]
    },
    {
      "cell_type": "code",
      "metadata": {
        "id": "UrxyEKGn_ez7"
      },
      "source": [
        "dataset = pd.read_csv('day.csv')\n",
        "X = dataset.iloc[:, 2:-1].values\n",
        "y = dataset.iloc[:, -1].values"
      ],
      "execution_count": 2,
      "outputs": []
    },
    {
      "cell_type": "markdown",
      "metadata": {
        "id": "WemVnqgeA70k"
      },
      "source": [
        "## Splitting the dataset into the Training set and Test set"
      ]
    },
    {
      "cell_type": "code",
      "metadata": {
        "id": "Kb_v_ae-A-20"
      },
      "source": [
        "from sklearn.model_selection import train_test_split\n",
        "X_train, X_test, y_train, y_test = train_test_split(X, y, test_size = 0.2, random_state = 0)"
      ],
      "execution_count": 3,
      "outputs": []
    },
    {
      "cell_type": "markdown",
      "metadata": {
        "id": "k-McZVsQBINc"
      },
      "source": [
        "## Training the Multiple Linear Regression model on the Training set"
      ]
    },
    {
      "cell_type": "code",
      "metadata": {
        "id": "ywPjx0L1BMiD",
        "outputId": "51377304-173d-4f7b-d925-f6ca774fa4b6",
        "colab": {
          "base_uri": "https://localhost:8080/",
          "height": 34
        }
      },
      "source": [
        "from sklearn.linear_model import LinearRegression\n",
        "regressor = LinearRegression()\n",
        "regressor.fit(X_train, y_train)"
      ],
      "execution_count": 4,
      "outputs": [
        {
          "output_type": "execute_result",
          "data": {
            "text/plain": [
              "LinearRegression(copy_X=True, fit_intercept=True, n_jobs=None, normalize=False)"
            ]
          },
          "metadata": {
            "tags": []
          },
          "execution_count": 4
        }
      ]
    },
    {
      "cell_type": "markdown",
      "metadata": {
        "id": "xNkXL1YQBiBT"
      },
      "source": [
        "## Predicting the Test set results"
      ]
    },
    {
      "cell_type": "code",
      "metadata": {
        "id": "TQKmwvtdBkyb",
        "outputId": "e15f514b-c2da-43e1-9706-f758774fed04",
        "colab": {
          "base_uri": "https://localhost:8080/",
          "height": 1000
        }
      },
      "source": [
        "y_pred = regressor.predict(X_test)\n",
        "np.set_printoptions(precision=2)\n",
        "print(np.concatenate((y_pred.reshape(len(y_pred),1), y_test.reshape(len(y_test),1)),1))"
      ],
      "execution_count": 5,
      "outputs": [
        {
          "output_type": "stream",
          "text": [
            "[[5923. 5923.]\n",
            " [4592. 4592.]\n",
            " [1248. 1248.]\n",
            " [1360. 1360.]\n",
            " [4075. 4075.]\n",
            " [1817. 1817.]\n",
            " [2659. 2659.]\n",
            " [6234. 6234.]\n",
            " [6857. 6857.]\n",
            " [1167. 1167.]\n",
            " [1538. 1538.]\n",
            " [1162. 1162.]\n",
            " [1461. 1461.]\n",
            " [4833. 4833.]\n",
            " [4342. 4342.]\n",
            " [4010. 4010.]\n",
            " [7525. 7525.]\n",
            " [6536. 6536.]\n",
            " [3376. 3376.]\n",
            " [2077. 2077.]\n",
            " [7713. 7713.]\n",
            " [1341. 1341.]\n",
            " [5259. 5259.]\n",
            " [4460. 4460.]\n",
            " [1977. 1977.]\n",
            " [4549. 4549.]\n",
            " [3387. 3387.]\n",
            " [5058. 5058.]\n",
            " [7907. 7907.]\n",
            " [8120. 8120.]\n",
            " [ 822.  822.]\n",
            " [5115. 5115.]\n",
            " [6392. 6392.]\n",
            " [5202. 5202.]\n",
            " [2209. 2209.]\n",
            " [4023. 4023.]\n",
            " [6861. 6861.]\n",
            " [4840. 4840.]\n",
            " [2744. 2744.]\n",
            " [2914. 2914.]\n",
            " [6624. 6624.]\n",
            " [ 801.  801.]\n",
            " [4839. 4839.]\n",
            " [3487. 3487.]\n",
            " [7580. 7580.]\n",
            " [7436. 7436.]\n",
            " [1951. 1951.]\n",
            " [3351. 3351.]\n",
            " [2832. 2832.]\n",
            " [1693. 1693.]\n",
            " [6043. 6043.]\n",
            " [6966. 6966.]\n",
            " [5572. 5572.]\n",
            " [7421. 7421.]\n",
            " [4576. 4576.]\n",
            " [3071. 3071.]\n",
            " [3613. 3613.]\n",
            " [7461. 7461.]\n",
            " [7105. 7105.]\n",
            " [3272. 3272.]\n",
            " [7290. 7290.]\n",
            " [4318. 4318.]\n",
            " [4073. 4073.]\n",
            " [8714. 8714.]\n",
            " [7494. 7494.]\n",
            " [1996. 1996.]\n",
            " [5202. 5202.]\n",
            " [5382. 5382.]\n",
            " [6536. 6536.]\n",
            " [5566. 5566.]\n",
            " [6572. 6572.]\n",
            " [7264. 7264.]\n",
            " [4996. 4996.]\n",
            " [6597. 6597.]\n",
            " [3267. 3267.]\n",
            " [6606. 6606.]\n",
            " [5847. 5847.]\n",
            " [6883. 6883.]\n",
            " [2431. 2431.]\n",
            " [1796. 1796.]\n",
            " [4475. 4475.]\n",
            " [5107. 5107.]\n",
            " [5362. 5362.]\n",
            " [1812. 1812.]\n",
            " [5010. 5010.]\n",
            " [7665. 7665.]\n",
            " [4792. 4792.]\n",
            " [6169. 6169.]\n",
            " [4459. 4459.]\n",
            " [4274. 4274.]\n",
            " [1263. 1263.]\n",
            " [ 623.  623.]\n",
            " [6904. 6904.]\n",
            " [7175. 7175.]\n",
            " [2843. 2843.]\n",
            " [1013. 1013.]\n",
            " [ 627.  627.]\n",
            " [7261. 7261.]\n",
            " [3574. 3574.]\n",
            " [3830. 3830.]\n",
            " [4352. 4352.]\n",
            " [6233. 6233.]\n",
            " [5170. 5170.]\n",
            " [7691. 7691.]\n",
            " [3523. 3523.]\n",
            " [4302. 4302.]\n",
            " [7693. 7693.]\n",
            " [7415. 7415.]\n",
            " [6041. 6041.]\n",
            " [2660. 2660.]\n",
            " [4191. 4191.]\n",
            " [3542. 3542.]\n",
            " [3544. 3544.]\n",
            " [1635. 1635.]\n",
            " [2169. 2169.]\n",
            " [4548. 4548.]\n",
            " [4763. 4763.]\n",
            " [4451. 4451.]\n",
            " [7359. 7359.]\n",
            " [5936. 5936.]\n",
            " [1712. 1712.]\n",
            " [4507. 4507.]\n",
            " [2927. 2927.]\n",
            " [2294. 2294.]\n",
            " [4195. 4195.]\n",
            " [4630. 4630.]\n",
            " [1650. 1650.]\n",
            " [7001. 7001.]\n",
            " [3129. 3129.]\n",
            " [3239. 3239.]\n",
            " [ 605.  605.]\n",
            " [5464. 5464.]\n",
            " [1450. 1450.]\n",
            " [4304. 4304.]\n",
            " [4270. 4270.]\n",
            " [6153. 6153.]\n",
            " [7132. 7132.]\n",
            " [4539. 4539.]\n",
            " [4985. 4985.]\n",
            " [5345. 5345.]\n",
            " [4220. 4220.]\n",
            " [4595. 4595.]\n",
            " [5870. 5870.]\n",
            " [5499. 5499.]\n",
            " [5423. 5423.]\n",
            " [8294. 8294.]\n",
            " [4334. 4334.]]\n"
          ],
          "name": "stdout"
        }
      ]
    },
    {
      "cell_type": "markdown",
      "metadata": {
        "id": "50DZZy0UyhLi"
      },
      "source": [
        "## Evaluating the Model Performance"
      ]
    },
    {
      "cell_type": "code",
      "metadata": {
        "id": "xPagAOKDywV4",
        "outputId": "07af41de-f0ec-44e1-f459-6a53e03b3509",
        "colab": {
          "base_uri": "https://localhost:8080/",
          "height": 34
        }
      },
      "source": [
        "from sklearn.metrics import r2_score\n",
        "r2_score(y_test, y_pred)"
      ],
      "execution_count": 6,
      "outputs": [
        {
          "output_type": "execute_result",
          "data": {
            "text/plain": [
              "1.0"
            ]
          },
          "metadata": {
            "tags": []
          },
          "execution_count": 6
        }
      ]
    }
  ]
}