{
  "nbformat": 4,
  "nbformat_minor": 0,
  "metadata": {
    "colab": {
      "name": "polynomial_regression.ipynb",
      "provenance": [],
      "collapsed_sections": []
    },
    "kernelspec": {
      "name": "python3",
      "display_name": "Python 3"
    }
  },
  "cells": [
    {
      "cell_type": "markdown",
      "metadata": {
        "id": "vN99YjPTDena"
      },
      "source": [
        "# Polynomial Regression"
      ]
    },
    {
      "cell_type": "markdown",
      "metadata": {
        "id": "ZIx_naXnDyHd"
      },
      "source": [
        "## Importing the libraries"
      ]
    },
    {
      "cell_type": "code",
      "metadata": {
        "id": "FjnmdyPLD2tS"
      },
      "source": [
        "import numpy as np\n",
        "import matplotlib.pyplot as plt\n",
        "import pandas as pd"
      ],
      "execution_count": 6,
      "outputs": []
    },
    {
      "cell_type": "markdown",
      "metadata": {
        "id": "6c8YExmOD5x5"
      },
      "source": [
        "## Importing the dataset"
      ]
    },
    {
      "cell_type": "code",
      "metadata": {
        "id": "nQOdXhjXD_AE"
      },
      "source": [
        "dataset = pd.read_csv('day.csv')\n",
        "X = dataset.iloc[:, 2:-1].values\n",
        "y = dataset.iloc[:, -1].values"
      ],
      "execution_count": 7,
      "outputs": []
    },
    {
      "cell_type": "markdown",
      "metadata": {
        "id": "Ud_1XTb28iXH"
      },
      "source": [
        "## Splitting the dataset into the Training set and Test set"
      ]
    },
    {
      "cell_type": "code",
      "metadata": {
        "id": "bUib_pbl8ipB"
      },
      "source": [
        "from sklearn.model_selection import train_test_split\n",
        "X_train, X_test, y_train, y_test = train_test_split(X, y, test_size = 0.2, random_state = 0)"
      ],
      "execution_count": 8,
      "outputs": []
    },
    {
      "cell_type": "markdown",
      "metadata": {
        "id": "Rb5nWuSHEfBV"
      },
      "source": [
        "## Training the Polynomial Regression model on the Training set"
      ]
    },
    {
      "cell_type": "code",
      "metadata": {
        "id": "HYplp4pTEm0O",
        "outputId": "d84542b0-f719-44c6-a03a-4fc21e17193e",
        "colab": {
          "base_uri": "https://localhost:8080/",
          "height": 34
        }
      },
      "source": [
        "from sklearn.preprocessing import PolynomialFeatures\n",
        "from sklearn.linear_model import LinearRegression\n",
        "poly_reg = PolynomialFeatures(degree = 4)\n",
        "X_poly = poly_reg.fit_transform(X_train)\n",
        "regressor = LinearRegression()\n",
        "regressor.fit(X_poly, y_train)"
      ],
      "execution_count": 9,
      "outputs": [
        {
          "output_type": "execute_result",
          "data": {
            "text/plain": [
              "LinearRegression(copy_X=True, fit_intercept=True, n_jobs=None, normalize=False)"
            ]
          },
          "metadata": {
            "tags": []
          },
          "execution_count": 9
        }
      ]
    },
    {
      "cell_type": "markdown",
      "metadata": {
        "id": "pzF3BRps9nlk"
      },
      "source": [
        "## Predicting the Test set results"
      ]
    },
    {
      "cell_type": "code",
      "metadata": {
        "id": "36aFLFBK9pMk",
        "outputId": "42234c75-3a38-4487-c812-844ada48ec48",
        "colab": {
          "base_uri": "https://localhost:8080/",
          "height": 1000
        }
      },
      "source": [
        "y_pred = regressor.predict(poly_reg.transform(X_test))\n",
        "np.set_printoptions(precision=2)\n",
        "print(np.concatenate((y_pred.reshape(len(y_pred),1), y_test.reshape(len(y_test),1)),1))"
      ],
      "execution_count": 10,
      "outputs": [
        {
          "output_type": "stream",
          "text": [
            "[[5911.81 5923.  ]\n",
            " [4593.16 4592.  ]\n",
            " [1240.48 1248.  ]\n",
            " [1365.82 1360.  ]\n",
            " [4067.41 4075.  ]\n",
            " [1823.17 1817.  ]\n",
            " [2655.5  2659.  ]\n",
            " [6207.59 6234.  ]\n",
            " [7117.36 6857.  ]\n",
            " [1160.51 1167.  ]\n",
            " [1539.66 1538.  ]\n",
            " [1153.66 1162.  ]\n",
            " [1456.78 1461.  ]\n",
            " [4834.33 4833.  ]\n",
            " [4340.5  4342.  ]\n",
            " [4003.18 4010.  ]\n",
            " [7518.9  7525.  ]\n",
            " [6513.89 6536.  ]\n",
            " [3376.68 3376.  ]\n",
            " [2082.74 2077.  ]\n",
            " [7715.45 7713.  ]\n",
            " [1317.85 1341.  ]\n",
            " [5261.54 5259.  ]\n",
            " [4480.28 4460.  ]\n",
            " [1990.48 1977.  ]\n",
            " [4542.92 4549.  ]\n",
            " [3378.76 3387.  ]\n",
            " [5064.   5058.  ]\n",
            " [7888.35 7907.  ]\n",
            " [8030.33 8120.  ]\n",
            " [ 838.3   822.  ]\n",
            " [5114.18 5115.  ]\n",
            " [6400.97 6392.  ]\n",
            " [5199.91 5202.  ]\n",
            " [2149.43 2209.  ]\n",
            " [4018.77 4023.  ]\n",
            " [6855.22 6861.  ]\n",
            " [4825.81 4840.  ]\n",
            " [2739.45 2744.  ]\n",
            " [2917.27 2914.  ]\n",
            " [6579.19 6624.  ]\n",
            " [ 821.25  801.  ]\n",
            " [4842.13 4839.  ]\n",
            " [3483.86 3487.  ]\n",
            " [7578.43 7580.  ]\n",
            " [7457.11 7436.  ]\n",
            " [1873.04 1951.  ]\n",
            " [3440.99 3351.  ]\n",
            " [2821.96 2832.  ]\n",
            " [1727.42 1693.  ]\n",
            " [6602.79 6043.  ]\n",
            " [6966.33 6966.  ]\n",
            " [5565.51 5572.  ]\n",
            " [7407.89 7421.  ]\n",
            " [4580.83 4576.  ]\n",
            " [3091.85 3071.  ]\n",
            " [3611.09 3613.  ]\n",
            " [7470.4  7461.  ]\n",
            " [7102.18 7105.  ]\n",
            " [3276.21 3272.  ]\n",
            " [7286.42 7290.  ]\n",
            " [4301.69 4318.  ]\n",
            " [4090.38 4073.  ]\n",
            " [8581.45 8714.  ]\n",
            " [7500.06 7494.  ]\n",
            " [1989.   1996.  ]\n",
            " [5203.33 5202.  ]\n",
            " [5355.97 5382.  ]\n",
            " [6651.11 6536.  ]\n",
            " [5581.99 5566.  ]\n",
            " [6575.81 6572.  ]\n",
            " [7270.87 7264.  ]\n",
            " [5042.02 4996.  ]\n",
            " [6578.27 6597.  ]\n",
            " [3272.1  3267.  ]\n",
            " [6571.2  6606.  ]\n",
            " [5852.2  5847.  ]\n",
            " [6881.7  6883.  ]\n",
            " [2457.99 2431.  ]\n",
            " [1843.59 1796.  ]\n",
            " [4465.13 4475.  ]\n",
            " [5099.93 5107.  ]\n",
            " [5368.05 5362.  ]\n",
            " [1796.25 1812.  ]\n",
            " [4936.7  5010.  ]\n",
            " [7656.58 7665.  ]\n",
            " [4794.37 4792.  ]\n",
            " [6174.7  6169.  ]\n",
            " [2949.83 4459.  ]\n",
            " [4279.21 4274.  ]\n",
            " [1264.75 1263.  ]\n",
            " [ 617.47  623.  ]\n",
            " [6897.94 6904.  ]\n",
            " [7176.41 7175.  ]\n",
            " [2830.67 2843.  ]\n",
            " [ 795.   1013.  ]\n",
            " [ 662.95  627.  ]\n",
            " [7259.92 7261.  ]\n",
            " [3579.22 3574.  ]\n",
            " [3831.16 3830.  ]\n",
            " [4353.92 4352.  ]\n",
            " [6236.47 6233.  ]\n",
            " [5164.48 5170.  ]\n",
            " [7677.05 7691.  ]\n",
            " [3522.79 3523.  ]\n",
            " [4290.35 4302.  ]\n",
            " [7694.04 7693.  ]\n",
            " [7401.54 7415.  ]\n",
            " [6008.72 6041.  ]\n",
            " [2693.5  2660.  ]\n",
            " [4205.55 4191.  ]\n",
            " [3545.2  3542.  ]\n",
            " [3544.16 3544.  ]\n",
            " [1635.17 1635.  ]\n",
            " [2325.14 2169.  ]\n",
            " [4547.29 4548.  ]\n",
            " [4763.31 4763.  ]\n",
            " [4454.59 4451.  ]\n",
            " [7358.88 7359.  ]\n",
            " [5962.53 5936.  ]\n",
            " [1715.75 1712.  ]\n",
            " [4506.47 4507.  ]\n",
            " [2930.61 2927.  ]\n",
            " [2304.13 2294.  ]\n",
            " [4191.75 4195.  ]\n",
            " [4622.73 4630.  ]\n",
            " [1646.62 1650.  ]\n",
            " [7003.33 7001.  ]\n",
            " [3144.75 3129.  ]\n",
            " [3240.7  3239.  ]\n",
            " [ 626.39  605.  ]\n",
            " [5466.49 5464.  ]\n",
            " [1453.09 1450.  ]\n",
            " [4300.67 4304.  ]\n",
            " [4270.66 4270.  ]\n",
            " [6156.97 6153.  ]\n",
            " [7135.16 7132.  ]\n",
            " [4527.49 4539.  ]\n",
            " [4988.63 4985.  ]\n",
            " [5351.   5345.  ]\n",
            " [4283.67 4220.  ]\n",
            " [4593.94 4595.  ]\n",
            " [5884.42 5870.  ]\n",
            " [5496.32 5499.  ]\n",
            " [5377.7  5423.  ]\n",
            " [8422.38 8294.  ]\n",
            " [4334.28 4334.  ]]\n"
          ],
          "name": "stdout"
        }
      ]
    },
    {
      "cell_type": "markdown",
      "metadata": {
        "id": "Fz1uTlWV919-"
      },
      "source": [
        "## Evaluating the Model Performance"
      ]
    },
    {
      "cell_type": "code",
      "metadata": {
        "id": "xvZQ_4W893-e",
        "outputId": "17c1c08a-90f4-4488-eca8-40034fa56a74",
        "colab": {
          "base_uri": "https://localhost:8080/",
          "height": 34
        }
      },
      "source": [
        "from sklearn.metrics import r2_score\n",
        "r2_score(y_test, y_pred)"
      ],
      "execution_count": 11,
      "outputs": [
        {
          "output_type": "execute_result",
          "data": {
            "text/plain": [
              "0.9954579637958737"
            ]
          },
          "metadata": {
            "tags": []
          },
          "execution_count": 11
        }
      ]
    }
  ]
}