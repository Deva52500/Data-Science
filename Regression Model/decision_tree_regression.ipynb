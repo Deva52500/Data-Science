{
  "nbformat": 4,
  "nbformat_minor": 0,
  "metadata": {
    "colab": {
      "name": "decision_tree_regression.ipynb",
      "provenance": [],
      "collapsed_sections": [],
      "toc_visible": true
    },
    "kernelspec": {
      "name": "python3",
      "display_name": "Python 3"
    }
  },
  "cells": [
    {
      "cell_type": "markdown",
      "metadata": {
        "id": "r3cas2_1T98w"
      },
      "source": [
        "# Decision Tree Regression"
      ]
    },
    {
      "cell_type": "markdown",
      "metadata": {
        "id": "IODliia6U1xO"
      },
      "source": [
        "## Importing the libraries"
      ]
    },
    {
      "cell_type": "code",
      "metadata": {
        "id": "y98nA5UdU6Hf"
      },
      "source": [
        "import numpy as np\n",
        "import matplotlib.pyplot as plt\n",
        "import pandas as pd"
      ],
      "execution_count": 1,
      "outputs": []
    },
    {
      "cell_type": "markdown",
      "metadata": {
        "id": "jpjZ43YlU8eI"
      },
      "source": [
        "## Importing the dataset"
      ]
    },
    {
      "cell_type": "code",
      "metadata": {
        "id": "pLVaXoYVU_Uy"
      },
      "source": [
        "dataset = pd.read_csv('day.csv')\n",
        "X = dataset.iloc[:, 2:-1].values\n",
        "y = dataset.iloc[:, -1].values"
      ],
      "execution_count": 2,
      "outputs": []
    },
    {
      "cell_type": "markdown",
      "metadata": {
        "id": "tPJXMyyUJbWn"
      },
      "source": [
        "## Splitting the dataset into the Training set and Test set"
      ]
    },
    {
      "cell_type": "code",
      "metadata": {
        "id": "rFOzpjaiJd5B"
      },
      "source": [
        "from sklearn.model_selection import train_test_split\n",
        "X_train, X_test, y_train, y_test = train_test_split(X, y, test_size = 0.2, random_state = 0)"
      ],
      "execution_count": 3,
      "outputs": []
    },
    {
      "cell_type": "markdown",
      "metadata": {
        "id": "g16qFkFQVC35"
      },
      "source": [
        "## Training the Decision Tree Regression model on the Training set"
      ]
    },
    {
      "cell_type": "code",
      "metadata": {
        "id": "SLDKyv1SVUqS",
        "outputId": "53c9a652-ef78-4905-cdc5-fe4395fe1b95",
        "colab": {
          "base_uri": "https://localhost:8080/",
          "height": 118
        }
      },
      "source": [
        "from sklearn.tree import DecisionTreeRegressor\n",
        "regressor = DecisionTreeRegressor(random_state = 0)\n",
        "regressor.fit(X_train, y_train)"
      ],
      "execution_count": 4,
      "outputs": [
        {
          "output_type": "execute_result",
          "data": {
            "text/plain": [
              "DecisionTreeRegressor(ccp_alpha=0.0, criterion='mse', max_depth=None,\n",
              "                      max_features=None, max_leaf_nodes=None,\n",
              "                      min_impurity_decrease=0.0, min_impurity_split=None,\n",
              "                      min_samples_leaf=1, min_samples_split=2,\n",
              "                      min_weight_fraction_leaf=0.0, presort='deprecated',\n",
              "                      random_state=0, splitter='best')"
            ]
          },
          "metadata": {
            "tags": []
          },
          "execution_count": 4
        }
      ]
    },
    {
      "cell_type": "markdown",
      "metadata": {
        "id": "Nao9cdO6IgNb"
      },
      "source": [
        "## Predicting the Test set results"
      ]
    },
    {
      "cell_type": "code",
      "metadata": {
        "id": "EebHA3EOIkQK",
        "outputId": "2d9619ec-8b85-4187-a61d-0d9370e27791",
        "colab": {
          "base_uri": "https://localhost:8080/",
          "height": 1000
        }
      },
      "source": [
        "y_pred = regressor.predict(X_test)\n",
        "np.set_printoptions(precision=2)\n",
        "print(np.concatenate((y_pred.reshape(len(y_pred),1), y_test.reshape(len(y_test),1)),1))"
      ],
      "execution_count": 5,
      "outputs": [
        {
          "output_type": "stream",
          "text": [
            "[[5336. 5923.]\n",
            " [4590. 4592.]\n",
            " [1204. 1248.]\n",
            " [1446. 1360.]\n",
            " [3940. 4075.]\n",
            " [1842. 1817.]\n",
            " [2633. 2659.]\n",
            " [6421. 6234.]\n",
            " [6591. 6857.]\n",
            " [1098. 1167.]\n",
            " [1501. 1538.]\n",
            " [1096. 1162.]\n",
            " [1446. 1461.]\n",
            " [4845. 4833.]\n",
            " [4401. 4342.]\n",
            " [4073. 4010.]\n",
            " [7442. 7525.]\n",
            " [6685. 6536.]\n",
            " [3422. 3376.]\n",
            " [2034. 2077.]\n",
            " [7697. 7713.]\n",
            " [1536. 1341.]\n",
            " [5495. 5259.]\n",
            " [4714. 4460.]\n",
            " [1985. 1977.]\n",
            " [3958. 4549.]\n",
            " [3425. 3387.]\n",
            " [4978. 5058.]\n",
            " [7852. 7907.]\n",
            " [7429. 8120.]\n",
            " [ 506.  822.]\n",
            " [5204. 5115.]\n",
            " [6864. 6392.]\n",
            " [5336. 5202.]\n",
            " [2121. 2209.]\n",
            " [4073. 4023.]\n",
            " [7013. 6861.]\n",
            " [4714. 4840.]\n",
            " [2633. 2744.]\n",
            " [2935. 2914.]\n",
            " [6891. 6624.]\n",
            " [ 985.  801.]\n",
            " [4891. 4839.]\n",
            " [3456. 3487.]\n",
            " [7592. 7580.]\n",
            " [7446. 7436.]\n",
            " [2046. 1951.]\n",
            " [3351. 3351.]\n",
            " [2739. 2832.]\n",
            " [1589. 1693.]\n",
            " [5336. 6043.]\n",
            " [7013. 6966.]\n",
            " [5698. 5572.]\n",
            " [7363. 7421.]\n",
            " [4629. 4576.]\n",
            " [2689. 3071.]\n",
            " [3620. 3613.]\n",
            " [7466. 7461.]\n",
            " [7273. 7105.]\n",
            " [3310. 3272.]\n",
            " [7350. 7290.]\n",
            " [4274. 4318.]\n",
            " [4127. 4073.]\n",
            " [7865. 8714.]\n",
            " [7697. 7494.]\n",
            " [1842. 1996.]\n",
            " [5312. 5202.]\n",
            " [5698. 5382.]\n",
            " [6591. 6536.]\n",
            " [5495. 5566.]\n",
            " [6436. 6572.]\n",
            " [7446. 7264.]\n",
            " [5117. 4996.]\n",
            " [6685. 6597.]\n",
            " [3429. 3267.]\n",
            " [6864. 6606.]\n",
            " [5698. 5847.]\n",
            " [6830. 6883.]\n",
            " [2424. 2431.]\n",
            " [1787. 1796.]\n",
            " [4294. 4475.]\n",
            " [4866. 5107.]\n",
            " [5538. 5362.]\n",
            " [1589. 1812.]\n",
            " [5117. 5010.]\n",
            " [7736. 7665.]\n",
            " [4845. 4792.]\n",
            " [6196. 6169.]\n",
            " [4067. 4459.]\n",
            " [4123. 4274.]\n",
            " [1321. 1263.]\n",
            " [ 683.  623.]\n",
            " [7030. 6904.]\n",
            " [7350. 7175.]\n",
            " [2710. 2843.]\n",
            " [ 920. 1013.]\n",
            " [ 506.  627.]\n",
            " [7534. 7261.]\n",
            " [3194. 3574.]\n",
            " [3956. 3830.]\n",
            " [4186. 4352.]\n",
            " [6398. 6233.]\n",
            " [4990. 5170.]\n",
            " [7733. 7691.]\n",
            " [3620. 3523.]\n",
            " [4294. 4302.]\n",
            " [7733. 7693.]\n",
            " [7446. 7415.]\n",
            " [5892. 6041.]\n",
            " [2913. 2660.]\n",
            " [4788. 4191.]\n",
            " [3214. 3542.]\n",
            " [3214. 3544.]\n",
            " [1495. 1635.]\n",
            " [2121. 2169.]\n",
            " [4590. 4548.]\n",
            " [4713. 4763.]\n",
            " [4492. 4451.]\n",
            " [7466. 7359.]\n",
            " [6460. 5936.]\n",
            " [1685. 1712.]\n",
            " [4492. 4507.]\n",
            " [3141. 2927.]\n",
            " [2455. 2294.]\n",
            " [4094. 4195.]\n",
            " [4713. 4630.]\n",
            " [1605. 1650.]\n",
            " [6855. 7001.]\n",
            " [3228. 3129.]\n",
            " [3331. 3239.]\n",
            " [ 754.  605.]\n",
            " [6140. 5464.]\n",
            " [1530. 1450.]\n",
            " [4401. 4304.]\n",
            " [4098. 4270.]\n",
            " [5875. 6153.]\n",
            " [7129. 7132.]\n",
            " [4563. 4539.]\n",
            " [4991. 4985.]\n",
            " [6140. 5345.]\n",
            " [3958. 4220.]\n",
            " [4602. 4595.]\n",
            " [5905. 5870.]\n",
            " [5495. 5499.]\n",
            " [6140. 5423.]\n",
            " [7702. 8294.]\n",
            " [4274. 4334.]]\n"
          ],
          "name": "stdout"
        }
      ]
    },
    {
      "cell_type": "markdown",
      "metadata": {
        "id": "V4nELFnnIod1"
      },
      "source": [
        "## Evaluating the Model Performance"
      ]
    },
    {
      "cell_type": "code",
      "metadata": {
        "id": "_G2QS1UoIsTZ",
        "outputId": "dc75f5d0-c8eb-4d8f-b26f-420fe8fe2f01",
        "colab": {
          "base_uri": "https://localhost:8080/",
          "height": 34
        }
      },
      "source": [
        "from sklearn.metrics import r2_score\n",
        "r2_score(y_test, y_pred)"
      ],
      "execution_count": 6,
      "outputs": [
        {
          "output_type": "execute_result",
          "data": {
            "text/plain": [
              "0.9872749146533816"
            ]
          },
          "metadata": {
            "tags": []
          },
          "execution_count": 6
        }
      ]
    }
  ]
}