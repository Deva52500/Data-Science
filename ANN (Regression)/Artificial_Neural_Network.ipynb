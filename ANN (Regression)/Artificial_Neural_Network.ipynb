{
  "nbformat": 4,
  "nbformat_minor": 0,
  "metadata": {
    "colab": {
      "name": "Artificial Neural Network",
      "provenance": [],
      "collapsed_sections": [],
      "toc_visible": true
    },
    "kernelspec": {
      "name": "python3",
      "display_name": "Python 3"
    }
  },
  "cells": [
    {
      "cell_type": "markdown",
      "metadata": {
        "id": "3cbb7fRy-eyr"
      },
      "source": [
        "# Artificial Neural Network"
      ]
    },
    {
      "cell_type": "markdown",
      "metadata": {
        "id": "8sNDnxE2-pwE"
      },
      "source": [
        "### Importing the libraries"
      ]
    },
    {
      "cell_type": "code",
      "metadata": {
        "id": "lxChR1Rk-umf"
      },
      "source": [
        "import numpy as np\n",
        "import pandas as pd\n",
        "import tensorflow as tf"
      ],
      "execution_count": 41,
      "outputs": []
    },
    {
      "cell_type": "code",
      "metadata": {
        "id": "uBTqR3nacj0e",
        "outputId": "2dbf7841-52d6-427a-f057-ee2faee02f90",
        "colab": {
          "base_uri": "https://localhost:8080/",
          "height": 35
        }
      },
      "source": [
        "tf.__version__"
      ],
      "execution_count": 42,
      "outputs": [
        {
          "output_type": "execute_result",
          "data": {
            "application/vnd.google.colaboratory.intrinsic+json": {
              "type": "string"
            },
            "text/plain": [
              "'2.3.0'"
            ]
          },
          "metadata": {
            "tags": []
          },
          "execution_count": 42
        }
      ]
    },
    {
      "cell_type": "markdown",
      "metadata": {
        "id": "AG3FQEch-yuA"
      },
      "source": [
        "## Part 1 - Data Preprocessing"
      ]
    },
    {
      "cell_type": "markdown",
      "metadata": {
        "id": "-4zq8Mza_D9O"
      },
      "source": [
        "### Importing the dataset"
      ]
    },
    {
      "cell_type": "code",
      "metadata": {
        "id": "B9CV13Co_HHM"
      },
      "source": [
        "dataset = pd.read_csv('Data.csv', sep=';')\n",
        "X = dataset.iloc[:, :-1].values\n",
        "y = dataset.iloc[:, -1].values"
      ],
      "execution_count": 43,
      "outputs": []
    },
    {
      "cell_type": "code",
      "metadata": {
        "id": "EZM6DkL6xA3p",
        "outputId": "f4c1d75d-98d5-41dd-b983-58197ed2ce79",
        "colab": {
          "base_uri": "https://localhost:8080/",
          "height": 134
        }
      },
      "source": [
        "print(X)"
      ],
      "execution_count": 44,
      "outputs": [
        {
          "output_type": "stream",
          "text": [
            "[[ 1  0  0 ...  0  0  0]\n",
            " [ 2  0  0 ...  0  0  0]\n",
            " [ 3  0  0 ...  0  0  0]\n",
            " ...\n",
            " [25  1  0 ...  0  0  0]\n",
            " [26  0  4 ...  0  1  0]\n",
            " [27  0  0 ...  0  0  0]]\n"
          ],
          "name": "stdout"
        }
      ]
    },
    {
      "cell_type": "code",
      "metadata": {
        "id": "LV3xLk_My21X",
        "outputId": "9ca7e5a2-e7ad-4b49-e5f3-e38fcf4ce1ee",
        "colab": {
          "base_uri": "https://localhost:8080/",
          "height": 118
        }
      },
      "source": [
        "print(y)"
      ],
      "execution_count": 45,
      "outputs": [
        {
          "output_type": "stream",
          "text": [
            "[ 4  6  8  9 11 10  8  8  7  6  5  4  4  4  5  5  6  5  6  8  9  9  9 11\n",
            " 11 11  7  4  6  8  9 10  9  7  7  8  8  8  7  8  7  8  8  8  8  9 11 12\n",
            " 13 13 15 16 15 11  3  3  5  5  7  7  6  6  6  7  8  8  8  6  6  8  9 10\n",
            " 12 13 15 17 19 20 22 23 19  4  5  5  5  8  7  7  6  7  7  7  7 10 10 11\n",
            " 12 12 10  9 11 12 13 15 18 19 21 22  3  5  5  6  8  9 10 10 10 12 11 10\n",
            " 11  9 10 10  8  9 11 13 14 17 17 18 17 17 12]\n"
          ],
          "name": "stdout"
        }
      ]
    },
    {
      "cell_type": "markdown",
      "metadata": {
        "id": "VC6omXel_Up0"
      },
      "source": [
        "### Splitting the dataset into the Training set and Test set"
      ]
    },
    {
      "cell_type": "code",
      "metadata": {
        "id": "L5edeb2r_agx"
      },
      "source": [
        "from sklearn.model_selection import train_test_split\n",
        "X_train, X_test, y_train, y_test = train_test_split(X, y, test_size = 0.2, random_state = 0)"
      ],
      "execution_count": 46,
      "outputs": []
    },
    {
      "cell_type": "markdown",
      "metadata": {
        "id": "_mSLlAT9_eyI"
      },
      "source": [
        "## Part 2 - Building the ANN"
      ]
    },
    {
      "cell_type": "markdown",
      "metadata": {
        "id": "CsBULd_f_wLY"
      },
      "source": [
        "### Initializing the ANN"
      ]
    },
    {
      "cell_type": "code",
      "metadata": {
        "id": "J6Hd97Ls__Nz"
      },
      "source": [
        "ann = tf.keras.models.Sequential()"
      ],
      "execution_count": 47,
      "outputs": []
    },
    {
      "cell_type": "markdown",
      "metadata": {
        "id": "iitAFJS_ABUn"
      },
      "source": [
        "### Adding the input layer and the first hidden layer"
      ]
    },
    {
      "cell_type": "code",
      "metadata": {
        "id": "ksO_Vv40AHix"
      },
      "source": [
        "ann.add(tf.keras.layers.Dense(units=32, activation='relu'))"
      ],
      "execution_count": 48,
      "outputs": []
    },
    {
      "cell_type": "markdown",
      "metadata": {
        "id": "-lb4kK_wAKbs"
      },
      "source": [
        "### Adding the second hidden layer"
      ]
    },
    {
      "cell_type": "code",
      "metadata": {
        "id": "c2357OqEAQOQ"
      },
      "source": [
        "ann.add(tf.keras.layers.Dense(units=32, activation='relu'))"
      ],
      "execution_count": 49,
      "outputs": []
    },
    {
      "cell_type": "markdown",
      "metadata": {
        "id": "jwMOmKb3AdBY"
      },
      "source": [
        "### Adding the output layer"
      ]
    },
    {
      "cell_type": "code",
      "metadata": {
        "id": "YFATpzsUAkLL"
      },
      "source": [
        "ann.add(tf.keras.layers.Dense(units=1))"
      ],
      "execution_count": 50,
      "outputs": []
    },
    {
      "cell_type": "markdown",
      "metadata": {
        "id": "fq7e4fF6A1yy"
      },
      "source": [
        "## Part 3 - Training the ANN"
      ]
    },
    {
      "cell_type": "markdown",
      "metadata": {
        "id": "qDeylAs2An25"
      },
      "source": [
        "### Compiling the ANN"
      ]
    },
    {
      "cell_type": "code",
      "metadata": {
        "id": "pesgbWlCAtB4"
      },
      "source": [
        "ann.compile(optimizer = 'adam', loss = 'mean_squared_error')"
      ],
      "execution_count": 51,
      "outputs": []
    },
    {
      "cell_type": "markdown",
      "metadata": {
        "id": "YjVuiybYOo7r"
      },
      "source": [
        "### Training the ANN model on the Training set"
      ]
    },
    {
      "cell_type": "code",
      "metadata": {
        "id": "c_vV-tiiA5zn",
        "outputId": "13ac4c5d-f05f-4efd-ebd3-338190c88912",
        "colab": {
          "base_uri": "https://localhost:8080/",
          "height": 1000
        }
      },
      "source": [
        "ann.fit(X_train, y_train, batch_size = 32, epochs = 100)"
      ],
      "execution_count": 52,
      "outputs": [
        {
          "output_type": "stream",
          "text": [
            "Epoch 1/100\n",
            "4/4 [==============================] - 0s 2ms/step - loss: 109.4733\n",
            "Epoch 2/100\n",
            "4/4 [==============================] - 0s 2ms/step - loss: 90.1483\n",
            "Epoch 3/100\n",
            "4/4 [==============================] - 0s 2ms/step - loss: 73.8001\n",
            "Epoch 4/100\n",
            "4/4 [==============================] - 0s 2ms/step - loss: 59.2041\n",
            "Epoch 5/100\n",
            "4/4 [==============================] - 0s 2ms/step - loss: 47.7588\n",
            "Epoch 6/100\n",
            "4/4 [==============================] - 0s 2ms/step - loss: 37.6464\n",
            "Epoch 7/100\n",
            "4/4 [==============================] - 0s 2ms/step - loss: 29.8343\n",
            "Epoch 8/100\n",
            "4/4 [==============================] - 0s 1ms/step - loss: 23.6752\n",
            "Epoch 9/100\n",
            "4/4 [==============================] - 0s 2ms/step - loss: 18.8137\n",
            "Epoch 10/100\n",
            "4/4 [==============================] - 0s 2ms/step - loss: 15.2499\n",
            "Epoch 11/100\n",
            "4/4 [==============================] - 0s 2ms/step - loss: 13.1785\n",
            "Epoch 12/100\n",
            "4/4 [==============================] - 0s 2ms/step - loss: 11.7155\n",
            "Epoch 13/100\n",
            "4/4 [==============================] - 0s 1ms/step - loss: 11.1489\n",
            "Epoch 14/100\n",
            "4/4 [==============================] - 0s 2ms/step - loss: 10.9303\n",
            "Epoch 15/100\n",
            "4/4 [==============================] - 0s 2ms/step - loss: 10.9137\n",
            "Epoch 16/100\n",
            "4/4 [==============================] - 0s 2ms/step - loss: 10.9338\n",
            "Epoch 17/100\n",
            "4/4 [==============================] - 0s 2ms/step - loss: 10.8735\n",
            "Epoch 18/100\n",
            "4/4 [==============================] - 0s 2ms/step - loss: 10.7510\n",
            "Epoch 19/100\n",
            "4/4 [==============================] - 0s 2ms/step - loss: 10.6115\n",
            "Epoch 20/100\n",
            "4/4 [==============================] - 0s 2ms/step - loss: 10.5219\n",
            "Epoch 21/100\n",
            "4/4 [==============================] - 0s 3ms/step - loss: 10.4178\n",
            "Epoch 22/100\n",
            "4/4 [==============================] - 0s 2ms/step - loss: 10.3282\n",
            "Epoch 23/100\n",
            "4/4 [==============================] - 0s 2ms/step - loss: 10.2261\n",
            "Epoch 24/100\n",
            "4/4 [==============================] - 0s 2ms/step - loss: 10.1234\n",
            "Epoch 25/100\n",
            "4/4 [==============================] - 0s 2ms/step - loss: 10.0337\n",
            "Epoch 26/100\n",
            "4/4 [==============================] - 0s 2ms/step - loss: 9.9443\n",
            "Epoch 27/100\n",
            "4/4 [==============================] - 0s 2ms/step - loss: 9.9174\n",
            "Epoch 28/100\n",
            "4/4 [==============================] - 0s 2ms/step - loss: 9.8017\n",
            "Epoch 29/100\n",
            "4/4 [==============================] - 0s 2ms/step - loss: 9.7062\n",
            "Epoch 30/100\n",
            "4/4 [==============================] - 0s 2ms/step - loss: 9.6176\n",
            "Epoch 31/100\n",
            "4/4 [==============================] - 0s 3ms/step - loss: 9.5524\n",
            "Epoch 32/100\n",
            "4/4 [==============================] - 0s 2ms/step - loss: 9.4573\n",
            "Epoch 33/100\n",
            "4/4 [==============================] - 0s 3ms/step - loss: 9.3780\n",
            "Epoch 34/100\n",
            "4/4 [==============================] - 0s 2ms/step - loss: 9.3020\n",
            "Epoch 35/100\n",
            "4/4 [==============================] - 0s 2ms/step - loss: 9.2203\n",
            "Epoch 36/100\n",
            "4/4 [==============================] - 0s 2ms/step - loss: 9.1388\n",
            "Epoch 37/100\n",
            "4/4 [==============================] - 0s 2ms/step - loss: 9.0517\n",
            "Epoch 38/100\n",
            "4/4 [==============================] - 0s 2ms/step - loss: 8.9953\n",
            "Epoch 39/100\n",
            "4/4 [==============================] - 0s 2ms/step - loss: 8.9005\n",
            "Epoch 40/100\n",
            "4/4 [==============================] - 0s 2ms/step - loss: 8.8280\n",
            "Epoch 41/100\n",
            "4/4 [==============================] - 0s 2ms/step - loss: 8.7474\n",
            "Epoch 42/100\n",
            "4/4 [==============================] - 0s 3ms/step - loss: 8.6693\n",
            "Epoch 43/100\n",
            "4/4 [==============================] - 0s 4ms/step - loss: 8.5929\n",
            "Epoch 44/100\n",
            "4/4 [==============================] - 0s 2ms/step - loss: 8.5101\n",
            "Epoch 45/100\n",
            "4/4 [==============================] - 0s 3ms/step - loss: 8.4523\n",
            "Epoch 46/100\n",
            "4/4 [==============================] - 0s 2ms/step - loss: 8.3611\n",
            "Epoch 47/100\n",
            "4/4 [==============================] - 0s 2ms/step - loss: 8.2953\n",
            "Epoch 48/100\n",
            "4/4 [==============================] - 0s 2ms/step - loss: 8.2169\n",
            "Epoch 49/100\n",
            "4/4 [==============================] - 0s 2ms/step - loss: 8.1361\n",
            "Epoch 50/100\n",
            "4/4 [==============================] - 0s 2ms/step - loss: 8.0814\n",
            "Epoch 51/100\n",
            "4/4 [==============================] - 0s 2ms/step - loss: 8.0087\n",
            "Epoch 52/100\n",
            "4/4 [==============================] - 0s 2ms/step - loss: 7.9328\n",
            "Epoch 53/100\n",
            "4/4 [==============================] - 0s 2ms/step - loss: 7.8588\n",
            "Epoch 54/100\n",
            "4/4 [==============================] - 0s 2ms/step - loss: 7.7949\n",
            "Epoch 55/100\n",
            "4/4 [==============================] - 0s 2ms/step - loss: 7.7319\n",
            "Epoch 56/100\n",
            "4/4 [==============================] - 0s 2ms/step - loss: 7.6753\n",
            "Epoch 57/100\n",
            "4/4 [==============================] - 0s 2ms/step - loss: 7.6090\n",
            "Epoch 58/100\n",
            "4/4 [==============================] - 0s 2ms/step - loss: 7.5537\n",
            "Epoch 59/100\n",
            "4/4 [==============================] - 0s 2ms/step - loss: 7.4698\n",
            "Epoch 60/100\n",
            "4/4 [==============================] - 0s 2ms/step - loss: 7.4223\n",
            "Epoch 61/100\n",
            "4/4 [==============================] - 0s 2ms/step - loss: 7.3752\n",
            "Epoch 62/100\n",
            "4/4 [==============================] - 0s 3ms/step - loss: 7.3038\n",
            "Epoch 63/100\n",
            "4/4 [==============================] - 0s 2ms/step - loss: 7.2399\n",
            "Epoch 64/100\n",
            "4/4 [==============================] - 0s 3ms/step - loss: 7.1997\n",
            "Epoch 65/100\n",
            "4/4 [==============================] - 0s 2ms/step - loss: 7.1057\n",
            "Epoch 66/100\n",
            "4/4 [==============================] - 0s 3ms/step - loss: 7.0501\n",
            "Epoch 67/100\n",
            "4/4 [==============================] - 0s 3ms/step - loss: 7.0127\n",
            "Epoch 68/100\n",
            "4/4 [==============================] - 0s 3ms/step - loss: 6.9371\n",
            "Epoch 69/100\n",
            "4/4 [==============================] - 0s 3ms/step - loss: 6.8708\n",
            "Epoch 70/100\n",
            "4/4 [==============================] - 0s 2ms/step - loss: 6.8293\n",
            "Epoch 71/100\n",
            "4/4 [==============================] - 0s 2ms/step - loss: 6.7728\n",
            "Epoch 72/100\n",
            "4/4 [==============================] - 0s 2ms/step - loss: 6.7159\n",
            "Epoch 73/100\n",
            "4/4 [==============================] - 0s 3ms/step - loss: 6.6867\n",
            "Epoch 74/100\n",
            "4/4 [==============================] - 0s 3ms/step - loss: 6.6229\n",
            "Epoch 75/100\n",
            "4/4 [==============================] - 0s 2ms/step - loss: 6.5846\n",
            "Epoch 76/100\n",
            "4/4 [==============================] - 0s 2ms/step - loss: 6.5116\n",
            "Epoch 77/100\n",
            "4/4 [==============================] - 0s 2ms/step - loss: 6.4293\n",
            "Epoch 78/100\n",
            "4/4 [==============================] - 0s 2ms/step - loss: 6.4061\n",
            "Epoch 79/100\n",
            "4/4 [==============================] - 0s 2ms/step - loss: 6.3868\n",
            "Epoch 80/100\n",
            "4/4 [==============================] - 0s 2ms/step - loss: 6.3644\n",
            "Epoch 81/100\n",
            "4/4 [==============================] - 0s 3ms/step - loss: 6.2467\n",
            "Epoch 82/100\n",
            "4/4 [==============================] - 0s 2ms/step - loss: 6.2061\n",
            "Epoch 83/100\n",
            "4/4 [==============================] - 0s 2ms/step - loss: 6.1807\n",
            "Epoch 84/100\n",
            "4/4 [==============================] - 0s 2ms/step - loss: 6.1323\n",
            "Epoch 85/100\n",
            "4/4 [==============================] - 0s 2ms/step - loss: 6.0600\n",
            "Epoch 86/100\n",
            "4/4 [==============================] - 0s 3ms/step - loss: 6.0345\n",
            "Epoch 87/100\n",
            "4/4 [==============================] - 0s 2ms/step - loss: 5.9721\n",
            "Epoch 88/100\n",
            "4/4 [==============================] - 0s 2ms/step - loss: 5.9331\n",
            "Epoch 89/100\n",
            "4/4 [==============================] - 0s 2ms/step - loss: 5.9164\n",
            "Epoch 90/100\n",
            "4/4 [==============================] - 0s 2ms/step - loss: 5.9006\n",
            "Epoch 91/100\n",
            "4/4 [==============================] - 0s 2ms/step - loss: 5.8700\n",
            "Epoch 92/100\n",
            "4/4 [==============================] - 0s 2ms/step - loss: 5.8019\n",
            "Epoch 93/100\n",
            "4/4 [==============================] - 0s 2ms/step - loss: 5.7886\n",
            "Epoch 94/100\n",
            "4/4 [==============================] - 0s 2ms/step - loss: 5.7338\n",
            "Epoch 95/100\n",
            "4/4 [==============================] - 0s 2ms/step - loss: 5.7041\n",
            "Epoch 96/100\n",
            "4/4 [==============================] - 0s 2ms/step - loss: 5.6890\n",
            "Epoch 97/100\n",
            "4/4 [==============================] - 0s 2ms/step - loss: 5.6254\n",
            "Epoch 98/100\n",
            "4/4 [==============================] - 0s 2ms/step - loss: 5.6307\n",
            "Epoch 99/100\n",
            "4/4 [==============================] - 0s 2ms/step - loss: 5.6221\n",
            "Epoch 100/100\n",
            "4/4 [==============================] - 0s 2ms/step - loss: 5.5375\n"
          ],
          "name": "stdout"
        },
        {
          "output_type": "execute_result",
          "data": {
            "text/plain": [
              "<tensorflow.python.keras.callbacks.History at 0x7f0daafddf28>"
            ]
          },
          "metadata": {
            "tags": []
          },
          "execution_count": 52
        }
      ]
    },
    {
      "cell_type": "markdown",
      "metadata": {
        "id": "0H0zKKNEBLD5"
      },
      "source": [
        "### Predicting the results of the Test set"
      ]
    },
    {
      "cell_type": "code",
      "metadata": {
        "id": "IA0yApEmBG1X",
        "outputId": "6c743345-3197-4b72-9a64-5d719632d13e",
        "colab": {
          "base_uri": "https://localhost:8080/",
          "height": 470
        }
      },
      "source": [
        "y_pred = ann.predict(X_test)\n",
        "np.set_printoptions(precision=0)\n",
        "print(np.concatenate((y_pred.reshape(len(y_pred),1), y_test.reshape(len(y_test),1)),1))"
      ],
      "execution_count": 53,
      "outputs": [
        {
          "output_type": "stream",
          "text": [
            "[[ 8. 11.]\n",
            " [ 7.  7.]\n",
            " [12.  9.]\n",
            " [11. 11.]\n",
            " [ 4.  5.]\n",
            " [ 7.  7.]\n",
            " [14. 15.]\n",
            " [13. 18.]\n",
            " [12.  9.]\n",
            " [ 7.  9.]\n",
            " [12. 13.]\n",
            " [11. 12.]\n",
            " [14. 11.]\n",
            " [14. 19.]\n",
            " [ 9.  8.]\n",
            " [10.  7.]\n",
            " [ 5.  3.]\n",
            " [ 9.  6.]\n",
            " [13. 18.]\n",
            " [ 8.  7.]\n",
            " [ 7.  8.]\n",
            " [15.  7.]\n",
            " [12. 11.]\n",
            " [ 7.  5.]\n",
            " [ 7.  6.]\n",
            " [11. 11.]\n",
            " [10.  6.]]\n"
          ],
          "name": "stdout"
        }
      ]
    }
  ]
}